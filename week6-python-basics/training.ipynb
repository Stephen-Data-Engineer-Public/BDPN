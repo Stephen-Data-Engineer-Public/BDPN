{
 "cells": [
  {
   "cell_type": "markdown",
   "id": "97c33d2c",
   "metadata": {},
   "source": [
    "# Where Python fits in Data\n",
    "\n",
    "Data Collection → Data Cleaning → Analysis → Automation\n",
    "\n",
    "     APIs            pandas        pandas     Scripts\n",
    "     Files           numpy         sklearn    Airflow\n",
    "     Scraping        regex         stats      Cron jobs\n",
    "\n",
    "SQL is great at: Querying, joining, aggregating\n",
    "\n",
    "Python is great at: Anything SQL can do + Everything else"
   ]
  },
  {
   "cell_type": "markdown",
   "id": "037dee65",
   "metadata": {},
   "source": [
    "# SQL - Python Comparision"
   ]
  },
  {
   "cell_type": "code",
   "execution_count": null,
   "id": "29843c4a",
   "metadata": {
    "vscode": {
     "languageId": "sql"
    }
   },
   "outputs": [],
   "source": [
    "-- Moving Along from SQL, this query can be recreated in pandas (as shown in next cell)\n",
    "SELECT \n",
    "    category,\n",
    "    COUNT(*) AS total_items,\n",
    "    AVG(price) AS avg_price\n",
    "FROM analytics.products\n",
    "WHERE price > 20\n",
    "GROUP BY category\n",
    "HAVING COUNT(*) > 1\n",
    "order by category;"
   ]
  },
  {
   "cell_type": "code",
   "execution_count": null,
   "id": "11af7183",
   "metadata": {},
   "outputs": [
    {
     "data": {
      "text/html": [
       "<div>\n",
       "<style scoped>\n",
       "    .dataframe tbody tr th:only-of-type {\n",
       "        vertical-align: middle;\n",
       "    }\n",
       "\n",
       "    .dataframe tbody tr th {\n",
       "        vertical-align: top;\n",
       "    }\n",
       "\n",
       "    .dataframe thead th {\n",
       "        text-align: right;\n",
       "    }\n",
       "</style>\n",
       "<table border=\"1\" class=\"dataframe\">\n",
       "  <thead>\n",
       "    <tr style=\"text-align: right;\">\n",
       "      <th></th>\n",
       "      <th>total_items</th>\n",
       "      <th>avg_price</th>\n",
       "    </tr>\n",
       "    <tr>\n",
       "      <th>category</th>\n",
       "      <th></th>\n",
       "      <th></th>\n",
       "    </tr>\n",
       "  </thead>\n",
       "  <tbody>\n",
       "    <tr>\n",
       "      <th>accessory</th>\n",
       "      <td>2</td>\n",
       "      <td>39.995</td>\n",
       "    </tr>\n",
       "    <tr>\n",
       "      <th>computing</th>\n",
       "      <td>4</td>\n",
       "      <td>411.495</td>\n",
       "    </tr>\n",
       "  </tbody>\n",
       "</table>\n",
       "</div>"
      ],
      "text/plain": [
       "           total_items  avg_price\n",
       "category                         \n",
       "accessory            2     39.995\n",
       "computing            4    411.495"
      ]
     },
     "execution_count": 69,
     "metadata": {},
     "output_type": "execute_result"
    }
   ],
   "source": [
    "# Same thing in Python (we'll learn how)\n",
    "import pandas as pd\n",
    "\n",
    "# Read data\n",
    "products = pd.read_csv('data/products.csv')\n",
    "\n",
    "# Filter, group, and aggregate\n",
    "result = (products[products['price'] > 20]\n",
    "          .groupby('category')\n",
    "          .agg(total_items=('category', 'count'),\n",
    "               avg_price=('price', 'mean'))\n",
    "          .query('total_items > 1')\n",
    "          .sort_values('category'))\n",
    "\n",
    "result\n",
    "\n",
    "#NOTE: Don't worry about understanding this yet. By Week 9, this will feel natural"
   ]
  },
  {
   "cell_type": "code",
   "execution_count": 3,
   "id": "cc0f38e9",
   "metadata": {},
   "outputs": [
    {
     "data": {
      "text/html": [
       "<div>\n",
       "<style scoped>\n",
       "    .dataframe tbody tr th:only-of-type {\n",
       "        vertical-align: middle;\n",
       "    }\n",
       "\n",
       "    .dataframe tbody tr th {\n",
       "        vertical-align: top;\n",
       "    }\n",
       "\n",
       "    .dataframe thead th {\n",
       "        text-align: right;\n",
       "    }\n",
       "</style>\n",
       "<table border=\"1\" class=\"dataframe\">\n",
       "  <thead>\n",
       "    <tr style=\"text-align: right;\">\n",
       "      <th></th>\n",
       "      <th>category</th>\n",
       "      <th>product_name</th>\n",
       "      <th>price</th>\n",
       "      <th>quantity</th>\n",
       "      <th>date</th>\n",
       "    </tr>\n",
       "  </thead>\n",
       "  <tbody>\n",
       "    <tr>\n",
       "      <th>0</th>\n",
       "      <td>computing</td>\n",
       "      <td>Dell inspiron</td>\n",
       "      <td>899.99</td>\n",
       "      <td>5</td>\n",
       "      <td>2024-01-15</td>\n",
       "    </tr>\n",
       "    <tr>\n",
       "      <th>1</th>\n",
       "      <td>computing</td>\n",
       "      <td>Dell latitude</td>\n",
       "      <td>699.99</td>\n",
       "      <td>3</td>\n",
       "      <td>2024-01-16</td>\n",
       "    </tr>\n",
       "    <tr>\n",
       "      <th>2</th>\n",
       "      <td>computing</td>\n",
       "      <td>Logitech m15</td>\n",
       "      <td>20.50</td>\n",
       "      <td>12</td>\n",
       "      <td>2024-01-15</td>\n",
       "    </tr>\n",
       "    <tr>\n",
       "      <th>3</th>\n",
       "      <td>computing</td>\n",
       "      <td>Logitech m20</td>\n",
       "      <td>25.50</td>\n",
       "      <td>8</td>\n",
       "      <td>2024-01-16</td>\n",
       "    </tr>\n",
       "    <tr>\n",
       "      <th>4</th>\n",
       "      <td>accessory</td>\n",
       "      <td>Logitech mouse pad</td>\n",
       "      <td>10.00</td>\n",
       "      <td>15</td>\n",
       "      <td>2024-01-15</td>\n",
       "    </tr>\n",
       "    <tr>\n",
       "      <th>5</th>\n",
       "      <td>accessory</td>\n",
       "      <td>Dell laptop bag</td>\n",
       "      <td>49.99</td>\n",
       "      <td>7</td>\n",
       "      <td>2024-01-16</td>\n",
       "    </tr>\n",
       "    <tr>\n",
       "      <th>6</th>\n",
       "      <td>accessory</td>\n",
       "      <td>HP wireless mouse</td>\n",
       "      <td>30.00</td>\n",
       "      <td>10</td>\n",
       "      <td>2024-01-15</td>\n",
       "    </tr>\n",
       "    <tr>\n",
       "      <th>7</th>\n",
       "      <td>accessory</td>\n",
       "      <td>HP mouse pad</td>\n",
       "      <td>12.00</td>\n",
       "      <td>20</td>\n",
       "      <td>2024-01-16</td>\n",
       "    </tr>\n",
       "  </tbody>\n",
       "</table>\n",
       "</div>"
      ],
      "text/plain": [
       "    category        product_name   price  quantity        date\n",
       "0  computing       Dell inspiron  899.99         5  2024-01-15\n",
       "1  computing       Dell latitude  699.99         3  2024-01-16\n",
       "2  computing        Logitech m15   20.50        12  2024-01-15\n",
       "3  computing        Logitech m20   25.50         8  2024-01-16\n",
       "4  accessory  Logitech mouse pad   10.00        15  2024-01-15\n",
       "5  accessory     Dell laptop bag   49.99         7  2024-01-16\n",
       "6  accessory   HP wireless mouse   30.00        10  2024-01-15\n",
       "7  accessory        HP mouse pad   12.00        20  2024-01-16"
      ]
     },
     "execution_count": 3,
     "metadata": {},
     "output_type": "execute_result"
    }
   ],
   "source": [
    "products"
   ]
  },
  {
   "cell_type": "markdown",
   "id": "57d7cfc4",
   "metadata": {},
   "source": [
    "## ETL Pattern (Summary)\n",
    "\n",
    "1. EXTRACT - Get data\n",
    "\n",
    "    data = read_from_source()\n",
    "    \n",
    "\n",
    "\n",
    "2. TRANSFORM - Clean and process\n",
    "\n",
    "    for record in data:\n",
    "\n",
    "        cleaned = clean_record(record)\n",
    "\n",
    "        processed_data.append(cleaned)\n",
    "\n",
    "\n",
    "3. LOAD - Save results\n",
    "\n",
    "    save_to_destination(processed_data)"
   ]
  },
  {
   "cell_type": "markdown",
   "id": "6168809b",
   "metadata": {},
   "source": [
    "# Part 2: Hands-on Python Basics"
   ]
  },
  {
   "cell_type": "code",
   "execution_count": 13,
   "id": "7f5db53e",
   "metadata": {},
   "outputs": [
    {
     "name": "stdout",
     "output_type": "stream",
     "text": [
      "Hello, Data World!\n"
     ]
    }
   ],
   "source": [
    "print(\"Hello, Data World!\")"
   ]
  },
  {
   "cell_type": "markdown",
   "id": "5b8397f9",
   "metadata": {},
   "source": [
    "### Part 1: Variables and Data Types\n",
    "\n",
    "What's Happening?\n",
    "Variables are containers for data. Unlike SQL where you work with columns, in Python you create individual named containers.\n",
    "\n",
    "- Strings: Text data (like VARCHAR in SQL)\n",
    "- Integers: Whole numbers\n",
    "- Floats: Decimal numbers\n",
    "- Booleans: True/False values\n",
    "\n",
    "💡 Clean Code Tip: Use descriptive names with underscores between words (snake_case)"
   ]
  },
  {
   "cell_type": "code",
   "execution_count": null,
   "id": "54f026fe",
   "metadata": {},
   "outputs": [
    {
     "name": "stdout",
     "output_type": "stream",
     "text": [
      "Company: TechCorp\n",
      "Employees: 1250\n",
      "Avg Salary: $75000.5\n",
      "Public? True\n"
     ]
    }
   ],
   "source": [
    "# Storing data in variables\n",
    "company_name = \"TechCorp\"   # String\n",
    "employee_count = 1250       # Integer\n",
    "average_salary = 75000.50   # Float\n",
    "is_public = True            # Boolean\n",
    "\n",
    "# Display our data\n",
    "print(f\"Company: {company_name}\")\n",
    "print(f\"Employees: {employee_count}\")\n",
    "print(f\"Avg Salary: ${average_salary}\")\n",
    "print(f\"Public? {is_public}\")"
   ]
  },
  {
   "cell_type": "markdown",
   "id": "3c469d60",
   "metadata": {},
   "source": [
    "### Part 2: Lists (Your First Data Structure)\n",
    "What's Happening?\n",
    "\n",
    "Lists are ordered collections of items. Think of them as a single column from a SQL table.\n",
    "\n",
    "- Access items using index (starting at 0)\n",
    "- Add items with .append()\n",
    "- Get length with len()\n",
    "\n",
    "💡 Clean Code Tip: Use plural names for lists (sales_regions not sales_region)"
   ]
  },
  {
   "cell_type": "code",
   "execution_count": 72,
   "id": "65db1a56",
   "metadata": {},
   "outputs": [
    {
     "data": {
      "text/plain": [
       "['computing', 123, 45.67, True]"
      ]
     },
     "execution_count": 72,
     "metadata": {},
     "output_type": "execute_result"
    }
   ],
   "source": [
    "category= [\"computing\", \"accessory\"]\n",
    "random_list= [\"computing\", 123, 45.67, True]\n",
    "\n",
    "random_list"
   ]
  },
  {
   "cell_type": "code",
   "execution_count": null,
   "id": "f3de308a",
   "metadata": {},
   "outputs": [
    {
     "name": "stdout",
     "output_type": "stream",
     "text": [
      "First region: North\n",
      "Its sales: $125000\n",
      "Total regions: 4\n"
     ]
    }
   ],
   "source": [
    "# Creating lists (like arrays/columns)\n",
    "sales_regions = [\"North\", \"South\", \"East\", \"West\"]\n",
    "q1_sales = [125000, 98000, 142000, 117000]\n",
    "\n",
    "# Accessing data\n",
    "print(f\"First region: {sales_regions[0]}\")\n",
    "print(f\"Its sales: ${q1_sales[0]}\")\n",
    "\n",
    "\n",
    "\n",
    "# How many regions?\n",
    "print(f\"Total regions: {len(sales_regions)}\")"
   ]
  },
  {
   "cell_type": "code",
   "execution_count": 90,
   "id": "3a6ec87d",
   "metadata": {},
   "outputs": [
    {
     "data": {
      "text/plain": [
       "['North', 'South', 'East', 'West', 'Central']"
      ]
     },
     "execution_count": 90,
     "metadata": {},
     "output_type": "execute_result"
    }
   ],
   "source": [
    "\n",
    "# Adding new data\n",
    "sales_regions.append(\"Central\")\n",
    "q1_sales.append(105000)\n",
    "\n",
    "sales_regions"
   ]
  },
  {
   "cell_type": "code",
   "execution_count": 91,
   "id": "61ab4366",
   "metadata": {},
   "outputs": [
    {
     "data": {
      "text/plain": [
       "[125000, 98000, 142000, 117000, 105000]"
      ]
     },
     "execution_count": 91,
     "metadata": {},
     "output_type": "execute_result"
    }
   ],
   "source": [
    "q1_sales"
   ]
  },
  {
   "cell_type": "code",
   "execution_count": 92,
   "id": "601bdd0d",
   "metadata": {},
   "outputs": [
    {
     "name": "stdout",
     "output_type": "stream",
     "text": [
      "Total regions: 4\n"
     ]
    }
   ],
   "source": [
    "# Remove region and sales at index 2 (\"East\")\n",
    "sales_regions.pop()\n",
    "\n",
    "# How many regions?\n",
    "print(f\"Total regions: {len(sales_regions)}\")"
   ]
  },
  {
   "cell_type": "code",
   "execution_count": null,
   "id": "d2c35ee7",
   "metadata": {},
   "outputs": [],
   "source": [
    "# Saving removed list. item into a variable\n",
    "var= sales_regions.pop()\n",
    "var"
   ]
  },
  {
   "cell_type": "code",
   "execution_count": null,
   "id": "9dc3b072",
   "metadata": {},
   "outputs": [],
   "source": [
    "# Inserting a new region at index 1\n",
    "sales_regions.insert(1, \"North-East\")"
   ]
  },
  {
   "cell_type": "code",
   "execution_count": 98,
   "id": "58f023aa",
   "metadata": {},
   "outputs": [
    {
     "data": {
      "text/plain": [
       "['North', 'North-East', 'South', 'East']"
      ]
     },
     "execution_count": 98,
     "metadata": {},
     "output_type": "execute_result"
    }
   ],
   "source": [
    "sales_regions"
   ]
  },
  {
   "cell_type": "code",
   "execution_count": null,
   "id": "1820a74c",
   "metadata": {},
   "outputs": [
    {
     "data": {
      "text/plain": [
       "{'techcorp': {'company_name': 'TechCorp',\n",
       "  'employee_count': 1250,\n",
       "  'average_salary': 75000.5,\n",
       "  'is_public': True},\n",
       " 'techbros': {'company_name': 'TechBros',\n",
       "  'employee_count': 150,\n",
       "  'average_salary': 7000.5,\n",
       "  'is_public': False}}"
      ]
     },
     "execution_count": 107,
     "metadata": {},
     "output_type": "execute_result"
    }
   ],
   "source": [
    "# Storing data in variables\n",
    "company_name = \"TechCorp\"   # String\n",
    "employee_count = 1250       # Integer\n",
    "average_salary = 75000.50   # Float\n",
    "is_public = True            # Boolean\n",
    "\n",
    "\n",
    "# Storing data in variables\n",
    "company_name = \"TechBros\"   # String\n",
    "employee_count = 150       # Integer\n",
    "average_salary = 7000.50   # Float\n",
    "is_public = False            # Boolean\n",
    "\n",
    "# These numerous properties for companies can be grouped into a dictionary\n",
    "\n",
    "# Storing data in variables\n",
    "companies= {'techcorp':{'company_name': \"TechCorp\", 'employee_count': 1250, 'average_salary':75000.50,  'is_public': True },   'techbros':{'company_name': \"TechBros\", 'employee_count': 150, 'average_salary':7000.50,  'is_public': False }}\n",
    "companies_list= [{'company_name': \"TechCorp\", 'employee_count': 1250, 'average_salary':75000.50,  'is_public': True },  {'company_name': \"TechBros\", 'employee_count': 150, 'average_salary':7000.50,  'is_public': False }]\n",
    "\n",
    "\n",
    "companies"
   ]
  },
  {
   "cell_type": "code",
   "execution_count": null,
   "id": "229f75e5",
   "metadata": {},
   "outputs": [
    {
     "data": {
      "text/plain": [
       "{'techcorp': {'company_name': 'TechCorp',\n",
       "  'employee_count': 1250,\n",
       "  'average_salary': 75000.5,\n",
       "  'is_public': True},\n",
       " 'techbros': {'company_name': 'TechBros',\n",
       "  'employee_count': 150,\n",
       "  'average_salary': 7000.5,\n",
       "  'is_public': False}}"
      ]
     },
     "execution_count": 112,
     "metadata": {},
     "output_type": "execute_result"
    }
   ],
   "source": [
    "# Adding a new company\n",
    "companies['techbros'] = {'company_name': \"TechBros\", 'employee_count': 150, 'average_salary':7000.50,  'is_public': False }\n",
    "\n",
    "companies"
   ]
  },
  {
   "cell_type": "markdown",
   "id": "c63cd0c4",
   "metadata": {},
   "source": [
    "### Part 3: Dictionaries (Key-Value Pairs)\n",
    "\n",
    "Dictionaries store data in key-value pairs. Like a single row where column names are keys.\n",
    "\n",
    "- Access values using keys in square brackets\n",
    "- Add new keys anytime\n",
    "- Update values by reassigning\n",
    "\n",
    "💡 This is huge for data work! JSON APIs return dictionaries, config files use them, and they're the foundation of DataFrames."
   ]
  },
  {
   "cell_type": "code",
   "execution_count": 29,
   "id": "ce84bb2d",
   "metadata": {},
   "outputs": [
    {
     "name": "stdout",
     "output_type": "stream",
     "text": [
      "Employee: Sarah Chen\n",
      "Department: Data Analytics\n",
      "New salary: $98000\n",
      "\n",
      "\n",
      "{'id': 1001, 'name': 'Sarah Chen', 'department': 'Data Analytics', 'salary': 98000, 'remote': True, 'years_experience': 5}\n"
     ]
    }
   ],
   "source": [
    "# Dictionary = like a single row from SQL\n",
    "employee = {\n",
    "    \"id\": 1001,\n",
    "    \"name\": \"Sarah Chen\",\n",
    "    \"department\": \"Data Analytics\",\n",
    "    \"salary\": 95000,\n",
    "    \"remote\": True\n",
    "}\n",
    "\n",
    "# Accessing values\n",
    "print(f\"Employee: {employee['name']}\")\n",
    "print(f\"Department: {employee['department']}\")\n",
    "\n",
    "# Adding new information\n",
    "employee[\"years_experience\"] = 5\n",
    "\n",
    "# Updating existing info\n",
    "employee[\"salary\"] = 98000\n",
    "print(f\"New salary: ${employee['salary']}\")\n",
    "print('\\n')\n",
    "print(employee)"
   ]
  },
  {
   "cell_type": "code",
   "execution_count": 30,
   "id": "93bbf786",
   "metadata": {},
   "outputs": [
    {
     "name": "stdout",
     "output_type": "stream",
     "text": [
      "Removed 'remote' key: {'id': 1001, 'name': 'Sarah Chen', 'department': 'Data Analytics', 'salary': 98000, 'years_experience': 5}\n",
      "{'id': 1001, 'name': 'Sarah Chen', 'department': 'Data Analytics', 'salary': 98000, 'years_experience': 5}\n"
     ]
    }
   ],
   "source": [
    "del employee[\"remote\"] # Remove 'remote' key\n",
    "print(\"Removed 'remote' key:\", employee)\n",
    "\n",
    "print(employee)"
   ]
  },
  {
   "cell_type": "markdown",
   "id": "84528bd8",
   "metadata": {},
   "source": [
    "### Part 4: Simple Data Processing\n",
    "\n",
    "What's Happening?\n",
    "\n",
    "This structure (list of dictionaries) is exactly how data comes from APIs and databases!\n",
    "\n",
    "- Each dictionary is like a row\n",
    "- Keys are like column names\n",
    "- We loop through to process each row\n",
    "\n",
    "💡 Why This Matters: This is the foundation of ETL! You're extracting data, transforming it (calculating profit), and could easily save results.\n"
   ]
  },
  {
   "cell_type": "code",
   "execution_count": 113,
   "id": "8733ef75",
   "metadata": {},
   "outputs": [
    {
     "name": "stdout",
     "output_type": "stream",
     "text": [
      "{'month': 'Jan', 'revenue': 125000, 'costs': 80000}\n",
      "\n",
      "\n",
      "{'month': 'Feb', 'revenue': 135000, 'costs': 85000}\n",
      "\n",
      "\n",
      "{'month': 'Mar', 'revenue': 118000, 'costs': 78000}\n",
      "\n",
      "\n"
     ]
    }
   ],
   "source": [
    "sales_data = [\n",
    "    {\"month\": \"Jan\", \"revenue\": 125000, \"costs\": 80000},\n",
    "    {\"month\": \"Feb\", \"revenue\": 135000, \"costs\": 85000},\n",
    "    {\"month\": \"Mar\", \"revenue\": 118000, \"costs\": 78000}\n",
    "]\n",
    "\n",
    "\n",
    "for dict in sales_data:\n",
    "    print(dict)\n",
    "    print('\\n')"
   ]
  },
  {
   "cell_type": "code",
   "execution_count": 121,
   "id": "c25c6d69",
   "metadata": {},
   "outputs": [
    {
     "name": "stdout",
     "output_type": "stream",
     "text": [
      "Jan: $45000 profit\n",
      "Feb: $50000 profit\n",
      "Mar: $40000 profit\n",
      "adding 125000 to total_reveue which is currently 0\n",
      "adding 135000 to total_reveue which is currently 125000\n",
      "adding 118000 to total_reveue which is currently 260000\n",
      "\n",
      "Q1 Total Revenue: $378000\n"
     ]
    }
   ],
   "source": [
    "# List of dictionaries = like a SQL table!\n",
    "\n",
    "sales_data = [\n",
    "    {\"month\": \"Jan\", \"revenue\": 125000, \"costs\": 80000},\n",
    "    {\"month\": \"Feb\", \"revenue\": 135000, \"costs\": 85000},\n",
    "    {\"month\": \"Mar\", \"revenue\": 118000, \"costs\": 78000}\n",
    "]\n",
    "\n",
    "# Calculate profit for each month\n",
    "for month_data in sales_data:\n",
    "    profit = month_data[\"revenue\"] - month_data[\"costs\"]\n",
    "    print(f\"{month_data['month']}: ${profit} profit\")\n",
    "\n",
    "# Calculate total revenue\n",
    "total_revenue = 0\n",
    "for month_data in sales_data:\n",
    "    print(f\"adding {month_data['revenue']} to total_reveue which is currently {total_revenue}\")\n",
    "    total_revenue += month_data[\"revenue\"]\n",
    "    \n",
    "print(f\"\\nQ1 Total Revenue: ${total_revenue}\")\n"
   ]
  },
  {
   "cell_type": "markdown",
   "id": "4d2dc5a5",
   "metadata": {},
   "source": [
    "# Dataframes\n",
    "### The core of Data Processing"
   ]
  },
  {
   "cell_type": "code",
   "execution_count": 124,
   "id": "a5a09894",
   "metadata": {},
   "outputs": [
    {
     "data": {
      "text/html": [
       "<div>\n",
       "<style scoped>\n",
       "    .dataframe tbody tr th:only-of-type {\n",
       "        vertical-align: middle;\n",
       "    }\n",
       "\n",
       "    .dataframe tbody tr th {\n",
       "        vertical-align: top;\n",
       "    }\n",
       "\n",
       "    .dataframe thead th {\n",
       "        text-align: right;\n",
       "    }\n",
       "</style>\n",
       "<table border=\"1\" class=\"dataframe\">\n",
       "  <thead>\n",
       "    <tr style=\"text-align: right;\">\n",
       "      <th></th>\n",
       "      <th>month</th>\n",
       "      <th>revenue</th>\n",
       "      <th>costs</th>\n",
       "    </tr>\n",
       "  </thead>\n",
       "  <tbody>\n",
       "    <tr>\n",
       "      <th>0</th>\n",
       "      <td>Jan</td>\n",
       "      <td>125000</td>\n",
       "      <td>80000</td>\n",
       "    </tr>\n",
       "    <tr>\n",
       "      <th>1</th>\n",
       "      <td>Feb</td>\n",
       "      <td>135000</td>\n",
       "      <td>85000</td>\n",
       "    </tr>\n",
       "    <tr>\n",
       "      <th>2</th>\n",
       "      <td>Mar</td>\n",
       "      <td>118000</td>\n",
       "      <td>78000</td>\n",
       "    </tr>\n",
       "  </tbody>\n",
       "</table>\n",
       "</div>"
      ],
      "text/plain": [
       "  month  revenue  costs\n",
       "0   Jan   125000  80000\n",
       "1   Feb   135000  85000\n",
       "2   Mar   118000  78000"
      ]
     },
     "execution_count": 124,
     "metadata": {},
     "output_type": "execute_result"
    }
   ],
   "source": [
    "df_sales"
   ]
  },
  {
   "cell_type": "code",
   "execution_count": null,
   "id": "b7994002",
   "metadata": {},
   "outputs": [
    {
     "name": "stdout",
     "output_type": "stream",
     "text": [
      "  month  profit\n",
      "0   Jan   45000\n",
      "1   Feb   50000\n",
      "2   Mar   40000\n",
      "\n",
      "Q1 Total Revenue: $378000\n"
     ]
    }
   ],
   "source": [
    "import pandas as pd\n",
    "\n",
    "\n",
    "sales_data = [\n",
    "    {\"month\": \"Jan\", \"revenue\": 125000, \"costs\": 80000},\n",
    "    {\"month\": \"Feb\", \"revenue\": 135000, \"costs\": 85000},\n",
    "    {\"month\": \"Mar\", \"revenue\": 118000, \"costs\": 78000}\n",
    "]\n",
    "\n",
    "# Read and convert sales_data to DataFrame\n",
    "df_sales = pd.DataFrame(sales_data)\n",
    "\n",
    "# Calculate profit for each month\n",
    "df_sales['profit'] = df_sales['revenue'] - df_sales['costs']\n",
    "print(df_sales[['month', 'profit']])\n",
    "\n",
    "# Calculate total revenue\n",
    "total_revenue_df=df_sales['revenue'].sum()\n",
    "print(f\"\\nQ1 Total Revenue: ${total_revenue_df}\")\n"
   ]
  },
  {
   "cell_type": "code",
   "execution_count": 128,
   "id": "bb2318c5",
   "metadata": {},
   "outputs": [],
   "source": [
    "# Store the cleaned data to a new CSV file\n",
    "df_sales.to_csv('data/q1_sales_report.csv', index=False)"
   ]
  },
  {
   "cell_type": "code",
   "execution_count": null,
   "id": "4a9d1650",
   "metadata": {},
   "outputs": [
    {
     "name": "stdout",
     "output_type": "stream",
     "text": [
      "STEP 1: EXTRACTING DATA\n",
      "----------------------------------------\n",
      "Raw data loaded. Sample row:\n",
      "['  laptop DELL  ', '899.99', '5 ', '2024-01-15']\n",
      "\n",
      "STEP 2: TRANSFORMING DATA\n",
      "----------------------------------------\n",
      "Cleaned: laptop_dell          | $ 899.99 | Qty:   5 | Total: $ 4499.95\n",
      "Cleaned: laptop_dell          | $ 899.99 | Qty:   3 | Total: $ 2699.97\n",
      "Cleaned: mouse_logitech       | $  25.50 | Qty:  12 | Total: $  306.00\n",
      "Cleaned: mouse_logitech       | $  25.50 | Qty:   8 | Total: $  204.00\n",
      "Cleaned: keyboard_mechanical  | $ 120.00 | Qty:   7 | Total: $  840.00\n",
      "\n",
      "STEP 3: AGGREGATING DATA\n",
      "----------------------------------------\n",
      "Sales Summary by Product:\n",
      "  laptop_dell          : $7,199.92\n",
      "  mouse_logitech       : $510.00\n",
      "  keyboard_mechanical  : $840.00\n",
      "\n",
      "Grand Total: $8,549.92\n",
      "\n",
      "STEP 4: SAVING CLEANED DATA\n",
      "----------------------------------------\n",
      "Writing to: cleaned_sales_data.csv\n",
      "\n",
      "✅ ETL Pipeline Complete!\n",
      "Processed 5 records\n",
      "\n",
      "==================================================\n",
      "CLEAN CODE PRINCIPLES DEMONSTRATED:\n",
      "==================================================\n",
      "\n",
      "1. Descriptive variable names:\n",
      "   ❌ BAD:  d = []\n",
      "   ✅ GOOD: cleaned_data = []\n",
      "\n",
      "2. Clear section comments:\n",
      "   # EXTRACT: Read messy data\n",
      "   # TRANSFORM: Clean the messy data\n",
      "\n",
      "3. Consistent formatting:\n",
      "   - All products lowercase with underscores\n",
      "   - All prices as floats with 2 decimals\n",
      "   - All quantities as integers\n",
      "\n",
      "4. Simple, readable logic:\n",
      "   - One transformation per step\n",
      "   - No nested complexity\n",
      "\n"
     ]
    }
   ],
   "source": [
    "# Mini ETL Demo: Cleaning Messy Sales Data\n",
    "# This is what you'll build together in class\n",
    "\n",
    "import csv\n",
    "\n",
    "# EXTRACT: Read messy data\n",
    "print(\"STEP 1: EXTRACTING DATA\")\n",
    "print(\"-\" * 40)\n",
    "\n",
    "# Simulating reading a CSV file with messy data\n",
    "# raw_sales_data = pd.read_csv(\"messy_sales.csv\") \n",
    "raw_sales_data= [\n",
    "    [\"  product_name\", \"price \", \"  quantity\", \"date\"],\n",
    "    [\"  laptop DELL  \", \"899.99\", \"5 \", \"2024-01-15\"],\n",
    "    [\"LAPTOP dell\", \" 899.99 \", \"3\", \"2024-01-16\"],\n",
    "    [\"  mouse logitech \", \"25.50\", \" 12 \", \"2024-01-15\"],\n",
    "    [\"Mouse LOGITECH\", \"25.5\", \"8  \", \"2024-01-16\"],\n",
    "    [\"KEYBOARD MECHANICAL  \", \" 120.00\", \"  7\", \"2024-01-15\"]\n",
    "]\n",
    "\n",
    "print(\"Raw data loaded. Sample row:\")\n",
    "print(raw_sales_data[1])\n",
    "print()\n",
    "\n",
    "# TRANSFORM: Clean the messy data\n",
    "print(\"STEP 2: TRANSFORMING DATA\")\n",
    "print(\"-\" * 40)\n",
    "\n",
    "cleaned_data = []\n",
    "header = [\"product_name\", \"price\", \"quantity\", \"date\", \"total_value\"]\n",
    "\n",
    "for i, row in enumerate(raw_sales_data):\n",
    "    if i == 0:  # Skip header\n",
    "        continue\n",
    "    \n",
    "    # Clean each field\n",
    "    product = row[0].strip().lower().replace(' ', '_')  # Remove leading & trailing spaces, lowercase and replace spaces with underscores\n",
    "\n",
    "    \n",
    "    price = float(row[1].strip())\n",
    "    quantity = int(row[2].strip())\n",
    "    date = row[3].strip()\n",
    "    \n",
    "    # Calculate total value\n",
    "    total_value = round(price * quantity, 2)\n",
    "    \n",
    "    # Create cleaned row\n",
    "    cleaned_row = [product, price, quantity, date, total_value]\n",
    "    cleaned_data.append(cleaned_row)\n",
    "    \n",
    "    print(f\"Cleaned: {product:20} | ${price:7.2f} | Qty: {quantity:3} | Total: ${total_value:8.2f}\")\n",
    "\n",
    "print()\n",
    "\n",
    "# AGGREGATE: Summary statistics\n",
    "print(\"STEP 3: AGGREGATING DATA\")\n",
    "print(\"-\" * 40)\n",
    "\n",
    "# Calculate totals by product\n",
    "product_totals = {}\n",
    "for row in cleaned_data:\n",
    "    product = row[0]\n",
    "    total_value = row[4]\n",
    "    \n",
    "    if product in product_totals:\n",
    "        product_totals[product] += total_value\n",
    "    else:\n",
    "        product_totals[product] = total_value\n",
    "\n",
    "print(\"Sales Summary by Product:\")\n",
    "for product, total in product_totals.items():\n",
    "    print(f\"  {product:20} : ${total:,.2f}\")\n",
    "\n",
    "print()\n",
    "print(f\"Grand Total: ${sum(product_totals.values()):,.2f}\")\n",
    "print()\n",
    "\n",
    "# LOAD: Save cleaned data \n",
    "print(\"STEP 4: SAVING CLEANED DATA\")\n",
    "print(\"-\" * 40)\n",
    "print(\"Writing to: cleaned_sales_data.csv\")\n",
    "pd.DataFrame(cleaned_data, columns=header).to_csv('data/ABC_cleaned_sales_data.csv', index=False)\n",
    "pd.DataFrame(product_totals.items(), columns=['product', 'total_sales']).to_csv('data/ABC_sales_summary.csv', index=False)\n",
    "\n",
    "print(\"\\n✅ ETL Pipeline Complete!\")\n",
    "print(f\"Processed {len(cleaned_data)} records\")\n",
    "\n",
    "# BONUS: Clean Code Examples\n",
    "print(\"\\n\" + \"=\"*50)\n",
    "print(\"CLEAN CODE PRINCIPLES DEMONSTRATED:\")\n",
    "print(\"=\"*50)\n",
    "\n",
    "print(\"\"\"\n",
    "1. Descriptive variable names:\n",
    "   ❌ BAD:  d = []\n",
    "   ✅ GOOD: cleaned_data = []\n",
    "\n",
    "2. Clear section comments:\n",
    "   # EXTRACT: Read messy data\n",
    "   # TRANSFORM: Clean the messy data\n",
    "\n",
    "3. Consistent formatting:\n",
    "   - All products lowercase with underscores\n",
    "   - All prices as floats with 2 decimals\n",
    "   - All quantities as integers\n",
    "\n",
    "4. Simple, readable logic:\n",
    "   - One transformation per step\n",
    "   - No nested complexity\n",
    "\"\"\")\n",
    "\n"
   ]
  },
  {
   "cell_type": "code",
   "execution_count": 131,
   "id": "e146d385",
   "metadata": {},
   "outputs": [
    {
     "data": {
      "text/html": [
       "<div>\n",
       "<style scoped>\n",
       "    .dataframe tbody tr th:only-of-type {\n",
       "        vertical-align: middle;\n",
       "    }\n",
       "\n",
       "    .dataframe tbody tr th {\n",
       "        vertical-align: top;\n",
       "    }\n",
       "\n",
       "    .dataframe thead th {\n",
       "        text-align: right;\n",
       "    }\n",
       "</style>\n",
       "<table border=\"1\" class=\"dataframe\">\n",
       "  <thead>\n",
       "    <tr style=\"text-align: right;\">\n",
       "      <th></th>\n",
       "      <th>category</th>\n",
       "      <th>PRODUCT_NAME</th>\n",
       "      <th>price</th>\n",
       "      <th>Quantity</th>\n",
       "      <th>date</th>\n",
       "    </tr>\n",
       "  </thead>\n",
       "  <tbody>\n",
       "    <tr>\n",
       "      <th>0</th>\n",
       "      <td>computing</td>\n",
       "      <td>Dell inspiron</td>\n",
       "      <td>899.99</td>\n",
       "      <td>5.0</td>\n",
       "      <td>2024-01-15</td>\n",
       "    </tr>\n",
       "    <tr>\n",
       "      <th>1</th>\n",
       "      <td>computing</td>\n",
       "      <td>Dell latitude</td>\n",
       "      <td>699.90</td>\n",
       "      <td>3.0</td>\n",
       "      <td>2024-01-16</td>\n",
       "    </tr>\n",
       "    <tr>\n",
       "      <th>2</th>\n",
       "      <td>Computing</td>\n",
       "      <td>LOGITECH m15</td>\n",
       "      <td>20.00</td>\n",
       "      <td>12.0</td>\n",
       "      <td>2024-01-15</td>\n",
       "    </tr>\n",
       "    <tr>\n",
       "      <th>3</th>\n",
       "      <td>computing</td>\n",
       "      <td>Logitech m20</td>\n",
       "      <td>25.50</td>\n",
       "      <td>8.0</td>\n",
       "      <td>2024-01-16</td>\n",
       "    </tr>\n",
       "    <tr>\n",
       "      <th>4</th>\n",
       "      <td>accessory</td>\n",
       "      <td>Logitech mouse pad</td>\n",
       "      <td>10.00</td>\n",
       "      <td>15.0</td>\n",
       "      <td>2024-01-15</td>\n",
       "    </tr>\n",
       "    <tr>\n",
       "      <th>5</th>\n",
       "      <td>ACCESSORY</td>\n",
       "      <td>Dell laptop bag</td>\n",
       "      <td>49.99</td>\n",
       "      <td>7.0</td>\n",
       "      <td>2024-01-16</td>\n",
       "    </tr>\n",
       "    <tr>\n",
       "      <th>6</th>\n",
       "      <td>Accessory</td>\n",
       "      <td>HP wireless mouse</td>\n",
       "      <td>30.00</td>\n",
       "      <td>10.0</td>\n",
       "      <td>2024-01-15</td>\n",
       "    </tr>\n",
       "    <tr>\n",
       "      <th>7</th>\n",
       "      <td>accessory</td>\n",
       "      <td>HP mouse pad</td>\n",
       "      <td>12.00</td>\n",
       "      <td>20.0</td>\n",
       "      <td>2024-01-16</td>\n",
       "    </tr>\n",
       "  </tbody>\n",
       "</table>\n",
       "</div>"
      ],
      "text/plain": [
       "    category        PRODUCT_NAME   price   Quantity        date\n",
       "0  computing       Dell inspiron   899.99       5.0  2024-01-15\n",
       "1  computing       Dell latitude   699.90       3.0  2024-01-16\n",
       "2  Computing        LOGITECH m15    20.00      12.0  2024-01-15\n",
       "3  computing        Logitech m20    25.50       8.0  2024-01-16\n",
       "4  accessory  Logitech mouse pad    10.00      15.0  2024-01-15\n",
       "5  ACCESSORY     Dell laptop bag    49.99       7.0  2024-01-16\n",
       "6  Accessory   HP wireless mouse    30.00      10.0  2024-01-15\n",
       "7  accessory        HP mouse pad    12.00      20.0  2024-01-16"
      ]
     },
     "execution_count": 131,
     "metadata": {},
     "output_type": "execute_result"
    }
   ],
   "source": [
    "df"
   ]
  },
  {
   "cell_type": "code",
   "execution_count": null,
   "id": "34505f2b",
   "metadata": {},
   "outputs": [
    {
     "name": "stdout",
     "output_type": "stream",
     "text": [
      "STEP 1: EXTRACTING DATA\n",
      "----------------------------------------\n",
      "Raw data loaded. Sample row:\n",
      "category            computing\n",
      "product_name    Dell inspiron\n",
      "price                  899.99\n",
      "quantity                  5.0\n",
      "date               2024-01-15\n",
      "Name: 0, dtype: object\n",
      "\n",
      "STEP 2: TRANSFORMING DATA\n",
      "----------------------------------------\n",
      "Cleaned: dell_inspiron        | $ 899.99 | Qty:   5 | Total: $ 4499.95\n",
      "Cleaned: dell_latitude        | $ 699.90 | Qty:   3 | Total: $ 2099.70\n",
      "Cleaned: logitech_m15         | $  20.00 | Qty:  12 | Total: $  240.00\n",
      "Cleaned: logitech_m20         | $  25.50 | Qty:   8 | Total: $  204.00\n",
      "Cleaned: logitech_mouse_pad   | $  10.00 | Qty:  15 | Total: $  150.00\n",
      "Cleaned: dell_laptop_bag      | $  49.99 | Qty:   7 | Total: $  349.93\n",
      "Cleaned: hp_wireless_mouse    | $  30.00 | Qty:  10 | Total: $  300.00\n",
      "Cleaned: hp_mouse_pad         | $  12.00 | Qty:  20 | Total: $  240.00\n",
      "\n",
      "STEP 3: AGGREGATING DATA\n",
      "----------------------------------------\n",
      "Sales Summary by Product:\n",
      "  dell_inspiron        : $4,499.95\n",
      "  dell_laptop_bag      : $349.93\n",
      "  dell_latitude        : $2,099.70\n",
      "  hp_mouse_pad         : $240.00\n",
      "  hp_wireless_mouse    : $300.00\n",
      "  logitech_m15         : $240.00\n",
      "  logitech_m20         : $204.00\n",
      "  logitech_mouse_pad   : $150.00\n",
      "\n",
      "Grand Total: $8,083.58\n",
      "\n",
      "STEP 4: LOADING CLEANED DATA\n",
      "----------------------------------------\n",
      "Writing to: cleaned_sales_data.csv\n",
      "Writing to: sales_summary.csv\n",
      " category  product_name  price  quantity       date  total_value\n",
      "computing dell_inspiron 899.99         5 2024-01-15      4499.95\n",
      "computing dell_latitude 699.90         3 2024-01-16      2099.70\n",
      "Computing  logitech_m15  20.00        12 2024-01-15       240.00\n",
      "\n",
      "✅ ETL Pipeline Complete!\n",
      "Processed 8 records\n",
      "\n",
      "==================================================\n",
      "CLEAN CODE PRINCIPLES DEMONSTRATED:\n",
      "==================================================\n",
      "\n",
      "1. Descriptive variable names:\n",
      "   ❌ BAD:  d = []\n",
      "   ✅ GOOD: df = pd.DataFrame(...)\n",
      "\n",
      "2. Clear section comments:\n",
      "   # EXTRACT: Read messy data\n",
      "   # TRANSFORM: Clean the messy data\n",
      "\n",
      "3. Consistent formatting:\n",
      "   - All products lowercase with underscores\n",
      "   - All prices as floats with 2 decimals\n",
      "   - All quantities as integers\n",
      "\n",
      "4. Simple, readable logic:\n",
      "   - One transformation per step\n",
      "   - No nested complexity\n",
      "\n"
     ]
    }
   ],
   "source": [
    "# Mini ETL Demo: Cleaning Messy Sales Data with pandas\n",
    "\n",
    "import pandas as pd\n",
    "import os\n",
    "\n",
    "print(\"STEP 1: EXTRACTING DATA\")\n",
    "print(\"-\" * 40)\n",
    "\n",
    "\n",
    "# Convert to DataFrame\n",
    "df = pd.read_csv('data/messy_sales.csv')\n",
    "df.columns = [col.strip().lower() for col in df.columns]\n",
    "\n",
    "print(\"Raw data loaded. Sample row:\")\n",
    "print(df.iloc[0])\n",
    "print()\n",
    "\n",
    "print(\"STEP 2: TRANSFORMING DATA\")\n",
    "print(\"-\" * 40)\n",
    "\n",
    "\n",
    "df['product_name'] = df['product_name'].astype(str).str.strip().str.lower().str.replace(' ', '_')\n",
    "\n",
    "# Clean price and quantity\n",
    "df['price'] = df['price'].astype(float)\n",
    "df['quantity'] = df['quantity'].astype(int)\n",
    "df['date'] = df['date'].astype(str).str.strip()\n",
    "\n",
    "# Calculate total_value\n",
    "df['total_value'] = (df['price'] * df['quantity']).round(2)\n",
    "\n",
    "for idx, row in df.iterrows():\n",
    "    print(f\"Cleaned: {row['product_name']:20} | ${row['price']:7.2f} | Qty: {row['quantity']:3} | Total: ${row['total_value']:8.2f}\")\n",
    "\n",
    "print()\n",
    "\n",
    "print(\"STEP 3: AGGREGATING DATA\")\n",
    "print(\"-\" * 40)\n",
    "\n",
    "product_totals = df.groupby('product_name')['total_value'].sum()\n",
    "\n",
    "print(\"Sales Summary by Product:\")\n",
    "for product, total in product_totals.items():\n",
    "    print(f\"  {product:20} : ${total:,.2f}\")\n",
    "\n",
    "print()\n",
    "print(f\"Grand Total: ${product_totals.sum():,.2f}\")\n",
    "print()\n",
    "\n",
    "print(\"STEP 4: LOADING CLEANED DATA\")\n",
    "print(\"-\" * 40)\n",
    "print(\"Writing to: cleaned_sales_data.csv\")\n",
    "\n",
    "dump_dir='dat'\n",
    "\n",
    "if os.path.exists(dump_dir):\n",
    "   df.to_csv(f'{dump_dir}/TESTABC_cleaned_sales_data_df_01.csv', columns=header, index=False)\n",
    "else:\n",
    "   os.mkdir(dump_dir)\n",
    "   df.to_csv(f'{dump_dir}/TESTABC_cleaned_sales_data_df.csv',  columns=header, index=False)\n",
    "\n",
    "print(\"Writing to: sales_summary.csv\")\n",
    "pd.DataFrame(product_totals.items(), columns=['product', 'total_sales']).to_csv('data/ABC_sales_summary_df.csv', index=False)\n",
    "df.to_sql()\n",
    "print(df.head(3).to_string(index=False))\n",
    "\n",
    "print(\"\\n✅ ETL Pipeline Complete!\")\n",
    "print(f\"Processed {len(df)} records\")\n",
    "\n",
    "print(\"\\n\" + \"=\"*50)\n",
    "print(\"CLEAN CODE PRINCIPLES DEMONSTRATED:\")\n",
    "print(\"=\"*50)\n",
    "\n",
    "print(\"\"\"\n",
    "1. Descriptive variable names:\n",
    "   ❌ BAD:  d = []\n",
    "   ✅ GOOD: df = pd.DataFrame(...)\n",
    "\n",
    "2. Clear section comments:\n",
    "   # EXTRACT: Read messy data\n",
    "   # TRANSFORM: Clean the messy data\n",
    "\n",
    "3. Consistent formatting:\n",
    "   - All products lowercase with underscores\n",
    "   - All prices as floats with 2 decimals\n",
    "   - All quantities as integers\n",
    "\n",
    "4. Simple, readable logic:\n",
    "   - One transformation per step\n",
    "   - No nested complexity\n",
    "\"\"\")\n"
   ]
  },
  {
   "cell_type": "markdown",
   "id": "c6637443",
   "metadata": {},
   "source": [
    "# Clea Code Pratice\n",
    "### Sport the Difference"
   ]
  },
  {
   "cell_type": "code",
   "execution_count": null,
   "id": "70b9492a",
   "metadata": {},
   "outputs": [],
   "source": [
    "# A\n",
    "# processing sales data\n",
    "d = [125000,98000,142000,117000]\n",
    "r = [\"North\",\"South\",\"East\",\"West\"]\n",
    "t=0\n",
    "for i in range(len(d)):\n",
    "  x=d[i]*1.1  \n",
    "  t=t+x\n",
    "  print(r[i]+\": \"+str(x))\n",
    "print(\"total: \"+str(t))\n",
    "\n",
    "\n",
    "# more processing\n",
    "emp={'n':'john','s':75000,'d':'IT'}\n",
    "if emp['s']>70000:\n",
    "  b=emp['s']*0.15\n",
    "else:\n",
    "  b=emp['s']*0.1\n",
    "print(emp['n']+\" bonus: \"+str(b))"
   ]
  },
  {
   "cell_type": "code",
   "execution_count": null,
   "id": "ec901445",
   "metadata": {},
   "outputs": [],
   "source": [
    "#B \n",
    "\n",
    "# Calculate Q1 sales with 10% growth projection\n",
    "q1_sales = [125000, 98000, 142000, 117000]\n",
    "sales_regions = [\"North\", \"South\", \"East\", \"West\"]\n",
    "growth_rate = 0.10\n",
    "\n",
    "total_projected = 0\n",
    "for region, sales in zip(sales_regions, q1_sales):\n",
    "    projected_sales = sales * (1 + growth_rate)\n",
    "    total_projected += projected_sales\n",
    "    print(f\"{region}: ${projected_sales:,.2f}\")\n",
    "\n",
    "print(f\"Total Projected: ${total_projected:,.2f}\")\n",
    "\n",
    "\n",
    "# Calculate employee bonus based on salary tier\n",
    "employee = {\n",
    "    'name': 'John',\n",
    "    'salary': 75000,\n",
    "    'department': 'IT'\n",
    "}\n",
    "\n",
    "HIGH_SALARY_THRESHOLD = 70000\n",
    "HIGH_BONUS_RATE = 0.15\n",
    "STANDARD_BONUS_RATE = 0.10\n",
    "\n",
    "if employee['salary'] > HIGH_SALARY_THRESHOLD:\n",
    "    bonus_amount = employee['salary'] * HIGH_BONUS_RATE\n",
    "else:\n",
    "    bonus_amount = employee['salary'] * STANDARD_BONUS_RATE\n",
    "\n",
    "print(f\"{employee['name']} bonus: ${bonus_amount:,.2f}\")"
   ]
  },
  {
   "cell_type": "code",
   "execution_count": null,
   "id": "158616cc",
   "metadata": {},
   "outputs": [],
   "source": [
    "# What students can type to practice\n",
    "\n",
    "print(\"\\n\" + \"=\"*50)\n",
    "print(\"SIMPLE VERSION TO TYPE:\")\n",
    "print(\"=\"*50)\n",
    "\n",
    "# Simple data cleaning example\n",
    "messy_name = \"  JOHN SMITH  \"\n",
    "clean_name = messy_name.strip().title() # Remove spaces, capitalize each word\n",
    "print(f\"Before: '{messy_name}'\")\n",
    "print(f\"After:  '{clean_name}'\")\n",
    "\n",
    "# Working with a price\n",
    "messy_price = \" 29.99 \"\n",
    "clean_price = float(messy_price.strip()) # Remove spaces, convert to float\n",
    "total = clean_price * 5\n",
    "print(f\"5 items at ${clean_price} = ${total}\")\n",
    "\n"
   ]
  }
 ],
 "metadata": {
  "kernelspec": {
   "display_name": "Python 3",
   "language": "python",
   "name": "python3"
  },
  "language_info": {
   "codemirror_mode": {
    "name": "ipython",
    "version": 3
   },
   "file_extension": ".py",
   "mimetype": "text/x-python",
   "name": "python",
   "nbconvert_exporter": "python",
   "pygments_lexer": "ipython3",
   "version": "3.11.10"
  }
 },
 "nbformat": 4,
 "nbformat_minor": 5
}
