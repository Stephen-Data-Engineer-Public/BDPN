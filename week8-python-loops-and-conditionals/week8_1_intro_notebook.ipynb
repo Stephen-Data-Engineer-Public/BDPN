{
 "cells": [
  {
   "cell_type": "markdown",
   "id": "7bd43e17",
   "metadata": {},
   "source": [
    "## Week 8: Loops and Conditionals\n",
    "##### Data-Focused Control Flow in Python"
   ]
  },
  {
   "cell_type": "code",
   "execution_count": null,
   "id": "7ceb3e58",
   "metadata": {},
   "outputs": [],
   "source": []
  },
  {
   "cell_type": "markdown",
   "id": "586e7925",
   "metadata": {},
   "source": [
    "\n",
    "\n",
    "##### PART 1: WHY LOOPS AND CONDITIONS MATTER IN DATA (10 minutes)\n",
    "\n",
    "\n",
    "How do you process 10,000 rows of data?\n",
    "- You can't manually write 10,000 lines of code\n",
    "- You need LOOPS to repeat operations\n",
    "- You need CONDITIONS to handle different scenarios\n",
    "\n",
    "Real Data Challenges That Need These Tools:\n",
    "1. Filter out invalid records (conditions)\n",
    "2. Process each row in a dataset (loops)\n",
    "3. Apply different calculations based on categories (conditions)\n",
    "4. Aggregate data until a threshold is met (loops + conditions)\n",
    "\n"
   ]
  },
  {
   "cell_type": "markdown",
   "id": "0f76a35f",
   "metadata": {},
   "source": []
  },
  {
   "cell_type": "markdown",
   "id": "a383363b",
   "metadata": {},
   "source": [
    "##### PART 2: CONDITIONALS - TEACHING PYTHON TO MAKE DECISIONS "
   ]
  },
  {
   "cell_type": "code",
   "execution_count": null,
   "id": "6caa75ec",
   "metadata": {},
   "outputs": [
    {
     "name": "stdout",
     "output_type": "stream",
     "text": [
      "Revenue $125,000 - Profitable quarter!\n"
     ]
    }
   ],
   "source": [
    "# =============================================================================\n",
    "# PART 2: CONDITIONALS - TEACHING PYTHON TO MAKE DECISIONS \n",
    "# =============================================================================\n",
    "\n",
    "\n",
    "# -----------------------------------------------------------------------------\n",
    "# Basic If Statements\n",
    "# -----------------------------------------------------------------------------\n",
    "\n",
    "# Simple threshold check (like SQL WHERE clause)\n",
    "revenue = 125000\n",
    "# revenue2= 250000\n",
    "\n",
    "\n",
    "if revenue > 100000:\n",
    "    print(f\"Revenue ${revenue:,} - Profitable quarter!\")\n",
    "\n",
    "# Stock level check\n",
    "quantity = 15\n",
    "if quantity < 10: #(is 15 < 10)\n",
    "    print(\"Low stock - need to reorder\")\n",
    "\n"
   ]
  },
  {
   "cell_type": "code",
   "execution_count": 3,
   "id": "809b6aa6",
   "metadata": {},
   "outputs": [
    {
     "name": "stdout",
     "output_type": "stream",
     "text": [
      "Customer Type: Standard\n",
      "Discount: 10%\n"
     ]
    }
   ],
   "source": [
    "# -----------------------------------------------------------------------------\n",
    "# If-Else: Binary Decisions (this or that)\n",
    "# -----------------------------------------------------------------------------\n",
    "\n",
    "# Customer classification\n",
    "customerA_orders = 47\n",
    "\n",
    "if customerA_orders >= 50:\n",
    "    customer_type = \"Premium\"\n",
    "    discount = 0.20\n",
    "else:\n",
    "    customer_type = \"Standard\"\n",
    "    discount = 0.10\n",
    "\n",
    "print(f\"Customer Type: {customer_type}\")\n",
    "print(f\"Discount: {discount*100:.0f}%\")\n"
   ]
  },
  {
   "cell_type": "code",
   "execution_count": null,
   "id": "af9834b7",
   "metadata": {},
   "outputs": [
    {
     "name": "stdout",
     "output_type": "stream",
     "text": [
      "Sales: $110,000\n",
      "Tier: Gold\n",
      "Commission: $11,000.00\n"
     ]
    }
   ],
   "source": [
    "# -----------------------------------------------------------------------------\n",
    "# If-Elif-Else: Multiple Conditions\n",
    "# -----------------------------------------------------------------------------\n",
    "\n",
    "# Sales commission tiers (common business logic)\n",
    "sales_amount = 110000\n",
    "\n",
    "if sales_amount >= 100000:\n",
    "    commission_rate = 0.15\n",
    "\n",
    "elif sales_amount >= 50000:\n",
    "    commission_rate = 0.10\n",
    "    tier = \"Gold\"\n",
    "\n",
    "    tier = \"Platinum\"\n",
    "elif sales_amount >= 25000:\n",
    "    commission_rate = 0.07\n",
    "    tier = \"Silver\"\n",
    "else:\n",
    "    commission_rate = 0.05\n",
    "    tier = \"Bronze\"\n",
    "\n",
    "commission = sales_amount * commission_rate\n",
    "print(f\"Sales: ${sales_amount:,}\")\n",
    "print(f\"Tier: {tier}\")\n",
    "print(f\"Commission: ${commission:,.2f}\")\n"
   ]
  },
  {
   "cell_type": "code",
   "execution_count": null,
   "id": "635e53d5",
   "metadata": {},
   "outputs": [
    {
     "name": "stdout",
     "output_type": "stream",
     "text": [
      "Sales: $110,000\n",
      "Tier: Platinum\n",
      "Commission: $16,500.00\n"
     ]
    }
   ],
   "source": [
    "# -----------------------------------------------------------------------------\n",
    "# If-Elif-Else: Multiple Conditions\n",
    "# Either order of conditions matters, or use logical operators\n",
    "# -----------------------------------------------------------------------------\n",
    "# if-elif-else with reordered conditions\n",
    "\n",
    "# Sales commission tiers (common business logic)\n",
    "sales_amount = 110000\n",
    "\n",
    "if  sales_amount >= 25000 and sales_amount < 50000: # no\n",
    "    commission_rate = 0.07\n",
    "    tier = \"Silver\"\n",
    "\n",
    "elif sales_amount >= 50000 and sales_amount < 100000: # no\n",
    "    commission_rate = 0.10\n",
    "    tier = \"Gold\"\n",
    "\n",
    "elif  sales_amount >= 100000 : # yes\n",
    "    commission_rate = 0.15\n",
    "    tier = \"Platinum\"\n",
    "\n",
    "else:\n",
    "    commission_rate = 0.05\n",
    "    tier = \"Bronze\"\n",
    "\n",
    "commission = sales_amount * commission_rate\n",
    "print(f\"Sales: ${sales_amount:,}\")\n",
    "print(f\"Tier: {tier}\")\n",
    "print(f\"Commission: ${commission:,.2f}\")\n",
    "\n",
    "\n"
   ]
  },
  {
   "cell_type": "code",
   "execution_count": null,
   "id": "ea2e6efd",
   "metadata": {},
   "outputs": [
    {
     "name": "stdout",
     "output_type": "stream",
     "text": [
      "✓ Eligible for flash sale\n",
      "✓ Valid payment method\n",
      "✓ Payment accepted\n"
     ]
    }
   ],
   "source": [
    "# -----------------------------------------------------------------------------\n",
    "# Combining Conditions with AND/OR Operators. \n",
    "# -----------------------------------------------------------------------------\n",
    "\n",
    "\n",
    "# Product eligibility check\n",
    "price = 45.99\n",
    "category = \"electronics\"\n",
    "in_stock = True\n",
    "\n",
    "# Using AND (all conditions must be true)\n",
    "if price < 50 and category == \"electronics\" and in_stock: # yes and yes and yes | True\n",
    "    print(\"✓ Eligible for flash sale\")\n",
    "\n",
    "# Using OR (at least one condition must be true)\n",
    "payment_method = \"credit\"\n",
    "if payment_method == \"cash\" or payment_method == \"credit\": # no or yes | true\n",
    "    print(\"✓ Valid payment method\")\n",
    "\n",
    "# More elegant with 'in'. (Membership test)\n",
    "if payment_method in [\"cash\", \"credit\", \"debit\"]: # yes | true\n",
    "    print(\"✓ Payment accepted\")\n"
   ]
  },
  {
   "cell_type": "markdown",
   "id": "385c013f",
   "metadata": {},
   "source": [
    "##### PART 3: LOOPS - PROCESSING DATA AT SCALE "
   ]
  },
  {
   "cell_type": "code",
   "execution_count": null,
   "id": "e52a89b0",
   "metadata": {},
   "outputs": [
    {
     "name": "stdout",
     "output_type": "stream",
     "text": [
      "Processing: $125,000 | Running total: $125,000\n",
      "Processing: $98,000 | Running total: $223,000\n",
      "Processing: $142,000 | Running total: $365,000\n",
      "Processing: $117,000 | Running total: $482,000\n",
      "Processing: $156,000 | Running total: $638,000\n",
      "Processing: $134,000 | Running total: $772,000\n",
      "\n",
      "Total: $772,000\n",
      "Average: $128,666.67\n"
     ]
    }
   ],
   "source": [
    "# =============================================================================\n",
    "# PART 3: LOOPS - PROCESSING DATA AT SCALE \n",
    "# =============================================================================\n",
    "\n",
    "# -----------------------------------------------------------------------------\n",
    "# For Loops with Lists\n",
    "# -----------------------------------------------------------------------------\n",
    "\n",
    "# Processing sales data\n",
    "monthly_sales = [125000, 98000, 142000, 117000, 156000, 134000]\n",
    "\n",
    "total = 0\n",
    "\n",
    "for sales in monthly_sales:\n",
    "    total += sales\n",
    "    print(f\"Processing: ${sales:,} | Running total: ${total:,}\")\n",
    "\n",
    "average = total / len(monthly_sales)\n",
    "print(f\"\\nTotal: ${total:,}\")\n",
    "print(f\"Average: ${average:,.2f}\")\n"
   ]
  },
  {
   "cell_type": "code",
   "execution_count": 17,
   "id": "c8bd9c1c",
   "metadata": {},
   "outputs": [
    {
     "data": {
      "text/plain": [
       "6"
      ]
     },
     "execution_count": 17,
     "metadata": {},
     "output_type": "execute_result"
    }
   ],
   "source": [
    "len(monthly_sales)"
   ]
  },
  {
   "cell_type": "code",
   "execution_count": 19,
   "id": "c30178a7",
   "metadata": {},
   "outputs": [
    {
     "data": {
      "text/plain": [
       "772000"
      ]
     },
     "execution_count": 19,
     "metadata": {},
     "output_type": "execute_result"
    }
   ],
   "source": [
    "total"
   ]
  },
  {
   "cell_type": "code",
   "execution_count": null,
   "id": "7b8dce9c",
   "metadata": {},
   "outputs": [],
   "source": []
  },
  {
   "cell_type": "code",
   "execution_count": null,
   "id": "b4b43586",
   "metadata": {},
   "outputs": [
    {
     "name": "stdout",
     "output_type": "stream",
     "text": [
      "(0, 'Jan')\n",
      "(1, 'Feb')\n",
      "(2, 'Mar')\n",
      "(3, 'Apr')\n",
      "(4, 'May')\n",
      "(5, 'Jun')\n"
     ]
    }
   ],
   "source": [
    "months = [\"Jan\", \"Feb\", \"Mar\", \"Apr\", \"May\", \"Jun\"]\n",
    "\n",
    "for item in list(months):\n",
    "    print(item)"
   ]
  },
  {
   "cell_type": "code",
   "execution_count": 32,
   "id": "05b38378",
   "metadata": {},
   "outputs": [
    {
     "data": {
      "text/plain": [
       "[(0, 'Jan'), (1, 'Feb'), (2, 'Mar'), (3, 'Apr'), (4, 'May'), (5, 'Jun')]"
      ]
     },
     "execution_count": 32,
     "metadata": {},
     "output_type": "execute_result"
    }
   ],
   "source": [
    "list(enumerate(months))"
   ]
  },
  {
   "cell_type": "code",
   "execution_count": null,
   "id": "8d1d25d4",
   "metadata": {},
   "outputs": [],
   "source": []
  },
  {
   "cell_type": "code",
   "execution_count": 25,
   "id": "8428027c",
   "metadata": {},
   "outputs": [
    {
     "name": "stdout",
     "output_type": "stream",
     "text": [
      "1. Jan: $125,000\n",
      "2. Feb: $98,000\n",
      "3. Mar: $142,000\n",
      "4. Apr: $117,000\n",
      "5. May: $156,000\n",
      "6. Jun: $134,000\n"
     ]
    }
   ],
   "source": [
    "# -----------------------------------------------------------------------------\n",
    "# For Loops with Enumerate (Getting Index and Value)\n",
    "# -----------------------------------------------------------------------------\n",
    "# Monthly sales with month names\n",
    "\n",
    "months = [\"Jan\", \"Feb\", \"Mar\", \"Apr\", \"May\", \"Jun\"]\n",
    "monthly_sales = [125000, 98000, 142000, 117000, 156000, 134000]\n",
    "\n",
    "for index, month in enumerate(months):\n",
    "    sales = monthly_sales[index]\n",
    "    print(f\"{index+1}. {month}: ${sales:,}\")\n",
    "\n"
   ]
  },
  {
   "cell_type": "code",
   "execution_count": null,
   "id": "95cfda4c",
   "metadata": {},
   "outputs": [
    {
     "name": "stdout",
     "output_type": "stream",
     "text": [
      "Keys only:\n",
      "  name\n",
      "  department\n",
      "  salary\n",
      "  years\n",
      "\n",
      "Values only:\n",
      "  Sarah Chen\n",
      "  Data Analytics\n",
      "  95000\n",
      "  3\n",
      "\n",
      "Key-Value pairs:\n",
      "  name: Sarah Chen\n",
      "  department: Data Analytics\n",
      "  salary: 95000\n",
      "  years: 3\n"
     ]
    }
   ],
   "source": [
    "# -----------------------------------------------------------------------------\n",
    "# For Loops through Dictionaries\n",
    "# -----------------------------------------------------------------------------\n",
    "\n",
    "employee = {\n",
    "    \"name\": \"Sarah Chen\",\n",
    "    \"department\": \"Data Analytics\",\n",
    "    \"salary\": 95000,\n",
    "    \"years\": 3\n",
    "}\n",
    "\n",
    "# Loop through keys\n",
    "print(\"Keys only:\")\n",
    "for key in employee.keys():\n",
    "    print(f\"  {key}\")\n",
    "\n",
    "# Loop through values\n",
    "print(\"\\nValues only:\")\n",
    "for value in employee.values():\n",
    "    print(f\"  {value}\")\n",
    "\n",
    "# Loop through both (most common in data work)\n",
    "print(\"\\nKey-Value pairs:\")\n",
    "for key, value in employee.items():\n",
    "    print(f\"  {key}: {value}\")\n"
   ]
  },
  {
   "cell_type": "code",
   "execution_count": null,
   "id": "16008b40",
   "metadata": {},
   "outputs": [
    {
     "name": "stdout",
     "output_type": "stream",
     "text": [
      "Budget: $100,000\n",
      "Month 1: Spent $25,000 | Total: $25,000\n",
      "Month 2: Spent $18,000 | Total: $43,000\n",
      "Month 3: Spent $32,000 | Total: $75,000\n",
      "Month 4: Spent $15,000 | Total: $90,000\n",
      "Month 5: Spent $22,000 | Total: $112,000\n",
      "⚠️ Budget exceeded in month 5!\n"
     ]
    }
   ],
   "source": [
    "# -----------------------------------------------------------------------------\n",
    "# While Loops (Use with Caution!)\n",
    "# -----------------------------------------------------------------------------\n",
    "\n",
    "# Accumulate until threshold\n",
    "\n",
    "# Accumulate monthly expenses until budget exceeded.\n",
    "budget = 100000\n",
    "expenses = [25000, 18000, 32000, 15000, 22000, 28000] # len = 6\n",
    "\n",
    "total_spent = 0\n",
    "month = 0\n",
    "\n",
    "print(f\"Budget: ${budget:,}\")\n",
    "while total_spent < budget and month < len(expenses): # at the first iteation, total_spent = 0 < 100000 month = 0 < 6 | True\n",
    "    total_spent += expenses[month]\n",
    "    month += 1\n",
    "    print(f\"Month {month}: Spent ${expenses[month-1]:,} | Total: ${total_spent:,}\")\n",
    "\n",
    "if total_spent > budget:\n",
    "    print(f\"⚠️ Budget exceeded in month {month}!\")\n"
   ]
  },
  {
   "cell_type": "markdown",
   "id": "83380513",
   "metadata": {},
   "source": [
    "##### PART 4: COMBINING LOOPS AND CONDITIONS"
   ]
  },
  {
   "cell_type": "code",
   "execution_count": 41,
   "id": "aa143a4e",
   "metadata": {},
   "outputs": [
    {
     "name": "stdout",
     "output_type": "stream",
     "text": [
      "Transaction 1001: $250.0\n",
      "Transaction 1003: $450.0\n",
      "Transaction 1005: $380.0\n",
      "\n",
      "Total completed sales: $1,080.00\n",
      "Number of completed sales: 3\n"
     ]
    }
   ],
   "source": [
    "# =============================================================================\n",
    "# PART 4: COMBINING LOOPS AND CONDITIONS\n",
    "# =============================================================================\n",
    "\n",
    "# -----------------------------------------------------------------------------\n",
    "# Filtering Data\n",
    "# -----------------------------------------------------------------------------\n",
    "\n",
    "\n",
    "transactions = [\n",
    "    {\"id\": 1001, \"amount\": 250.00, \"type\": \"sale\", \"status\": \"completed\"},\n",
    "    {\"id\": 1002, \"amount\": 125.50, \"type\": \"refund\", \"status\": \"pending\"},\n",
    "    {\"id\": 1003, \"amount\": 450.00, \"type\": \"sale\", \"status\": \"completed\"},\n",
    "    {\"id\": 1004, \"amount\": 75.00, \"type\": \"sale\", \"status\": \"failed\"},\n",
    "    {\"id\": 1005, \"amount\": 380.00, \"type\": \"sale\", \"status\": \"completed\"},\n",
    "]\n",
    "\n",
    "# Calculate total completed sales\n",
    "total_sales = 0\n",
    "completed_count = 0\n",
    "\n",
    "for transaction in transactions:\n",
    "    if transaction[\"type\"] == \"sale\" and transaction[\"status\"] == \"completed\":\n",
    "        total_sales += transaction[\"amount\"]\n",
    "        completed_count += 1\n",
    "        print(f\"Transaction {transaction['id']}: ${transaction['amount']}\")\n",
    "\n",
    "print(f\"\\nTotal completed sales: ${total_sales:,.2f}\")\n",
    "print(f\"Number of completed sales: {completed_count}\")\n",
    "\n",
    "\n"
   ]
  },
  {
   "cell_type": "code",
   "execution_count": 46,
   "id": "0f1eb8ec",
   "metadata": {},
   "outputs": [
    {
     "name": "stdout",
     "output_type": "stream",
     "text": [
      "✓ Valid price: $29.99\n",
      "✓ Valid price: $45.50\n",
      "✗ Invalid: not a number ('invalid')\n",
      "✓ Valid price: $32.00\n",
      "✗ Invalid: negative price (-15.0)\n",
      "✓ Valid price: $78.25\n",
      "\n",
      "Cleaned 4 prices\n",
      "Rejected 3 invalid entries\n",
      "Clean prices: [29.99, 45.5, 32.0, 78.25]\n"
     ]
    }
   ],
   "source": [
    "# -----------------------------------------------------------------------------\n",
    "# Data Validation and Cleaning\n",
    "# -----------------------------------------------------------------------------\n",
    "\n",
    "# Raw data with issues\n",
    "raw_prices = [\"29.99\", \"45.50\", \"invalid\", \"32.00\", \"-15\", \"78.25\", \"\"]\n",
    "\n",
    "clean_prices = []\n",
    "invalid_count = 0\n",
    "\n",
    "for price_str in raw_prices:\n",
    "    # Skip empty strings\n",
    "    if not price_str:\n",
    "        invalid_count += 1\n",
    "        continue\n",
    "    \n",
    "    # Try to convert to float\n",
    "    try:\n",
    "        price = float(price_str)\n",
    "        # Validate the price\n",
    "        if price > 0:\n",
    "            clean_prices.append(price)\n",
    "            print(f\"✓ Valid price: ${price:.2f}\")\n",
    "        else:\n",
    "            print(f\"✗ Invalid: negative price ({price})\")\n",
    "            invalid_count += 1\n",
    "    except ValueError:\n",
    "        print(f\"✗ Invalid: not a number ('{price_str}')\")\n",
    "        invalid_count += 1\n",
    "\n",
    "print(f\"\\nCleaned {len(clean_prices)} prices\")\n",
    "print(f\"Rejected {invalid_count} invalid entries\")\n",
    "print(f\"Clean prices: {clean_prices}\")\n",
    "\n",
    "\n"
   ]
  },
  {
   "cell_type": "code",
   "execution_count": null,
   "id": "e510edb9",
   "metadata": {},
   "outputs": [
    {
     "name": "stdout",
     "output_type": "stream",
     "text": [
      "Laptop       | Qty:  2 | Total: $1,799.98 | HIGH\n",
      "Mouse        | Qty: 15 | Total: $  382.50 | LOW\n",
      "Monitor      | Qty:  5 | Total: $1,499.95 | MEDIUM\n",
      "Work in progress for webcam\n",
      "\n",
      "High value orders: 1\n",
      "Medium value orders: 1\n",
      "Low value orders: 1\n"
     ]
    }
   ],
   "source": [
    "# -----------------------------------------------------------------------------\n",
    "# Categorizing Data\n",
    "# -----------------------------------------------------------------------------\n",
    "\n",
    "\n",
    "orders = [\n",
    "    {\"product\": \"Laptop\", \"quantity\": 2, \"price\": 899.99},\n",
    "    {\"product\": \"Mouse\", \"quantity\": 15, \"price\": 25.50},\n",
    "    {\"product\": \"Monitor\", \"quantity\": 5, \"price\": 299.99},\n",
    "    {\"product\": \"Webcam\", \"quantity\": 3, \"price\": 125.00},\n",
    "    {\"product\": \"Keyboard\", \"quantity\": 8, \"price\": 79.99},\n",
    "]\n",
    "\n",
    "# Categorize by order value\n",
    "high_value = []\n",
    "medium_value = []\n",
    "low_value = []\n",
    "\n",
    "# Webcam\n",
    "for order in orders:\n",
    "    order_total = order[\"quantity\"] * order[\"price\"]\n",
    "    order[\"total\"] = order_total  # Add calculated field\n",
    "    \n",
    "    if order['product'] == 'Webcam':\n",
    "        print(\"Work in progress for webcam\")\n",
    "        break\n",
    "        \n",
    "    #NOTE: the order of conditions matters. If we swapped the first two conditions, all orders >= 500 would be classified as MEDIUM\n",
    "    if order_total >= 1500:\n",
    "        high_value.append(order)\n",
    "        category = \"HIGH\"\n",
    "    elif order_total >= 500:\n",
    "        medium_value.append(order)\n",
    "        category = \"MEDIUM\"\n",
    "    else:\n",
    "        low_value.append(order)\n",
    "        category = \"LOW\"\n",
    "    \n",
    "    print(f\"{order['product']:12} | Qty: {order['quantity']:2} | \"\n",
    "          f\"Total: ${order_total:8,.2f} | {category}\")\n",
    "\n",
    "else:\n",
    "    print(\"\\nBreak was triggered\")\n",
    "\n",
    "\n",
    "print(f\"\\nHigh value orders: {len(high_value)}\")\n",
    "print(f\"Medium value orders: {len(medium_value)}\")\n",
    "print(f\"Low value orders: {len(low_value)}\")\n"
   ]
  },
  {
   "cell_type": "markdown",
   "id": "d90bb308",
   "metadata": {},
   "source": [
    "##### PART 5: LIST COMPREHENSIONS"
   ]
  },
  {
   "cell_type": "code",
   "execution_count": 47,
   "id": "7314817c",
   "metadata": {},
   "outputs": [
    {
     "name": "stdout",
     "output_type": "stream",
     "text": [
      "Traditional loop result: [26.991, 40.95, 28.8, 70.425]\n",
      "List comprehension result: [26.991, 40.95, 28.8, 70.425]\n",
      "Filtered prices > 40: [45.5, 78.25]\n"
     ]
    }
   ],
   "source": [
    "# =============================================================================\n",
    "# PART 5: LIST COMPREHENSIONS - PYTHONIC DATA PROCESSING \n",
    "# =============================================================================\n",
    "\n",
    "# Traditional loop\n",
    "prices = [29.99, 45.50, 32.00, 78.25]\n",
    "\n",
    "discounted = []\n",
    "for price in prices:\n",
    "    discounted.append(price * 0.9)\n",
    "\n",
    "print(\"Traditional loop result:\", discounted)\n",
    "\n",
    "# List comprehension (same result, one line!)\n",
    "discounted_ = [price * 0.9 for price in prices]\n",
    "print(\"List comprehension result:\", discounted_)\n",
    "\n",
    "# With condition\n",
    "high_prices = [price for price in prices if price > 40]\n",
    "print(\"Filtered prices > 40:\", high_prices)\n",
    "\n"
   ]
  },
  {
   "cell_type": "code",
   "execution_count": 48,
   "id": "f63da832",
   "metadata": {},
   "outputs": [
    {
     "name": "stdout",
     "output_type": "stream",
     "text": [
      "Months with sales > 100k: ['Jan', 'Mar']\n"
     ]
    }
   ],
   "source": [
    "# More complex example\n",
    "sales_data = [\n",
    "    {\"month\": \"Jan\", \"amount\": 125000},\n",
    "    {\"month\": \"Feb\", \"amount\": 98000},\n",
    "    {\"month\": \"Mar\", \"amount\": 142000},\n",
    "]\n",
    "\n",
    "# Extract months with the amounts > 100000\n",
    "high_months = [month_data[\"month\"] for month_data in sales_data if month_data[\"amount\"] > 100000]\n",
    "print(\"Months with sales > 100k:\", high_months)"
   ]
  },
  {
   "cell_type": "markdown",
   "id": "3a2f5034",
   "metadata": {},
   "source": [
    "##### PRACTICE EXERCISES\n",
    "\n",
    "\n",
    "Exercise 1: Customer Discount Calculator\n",
    "- If purchase > $200: 20% discount\n",
    "- Elif purchase > $100: 10% discount  \n",
    "- Elif purchase > $50: 5% discount\n",
    "- Else: no discount\n",
    "\n",
    "Exercise 2: Data Quality Checker\n",
    "Loop through this data and count valid vs invalid emails:\n",
    "emails = [\"john@example.com\", \"invalid-email\", \"sarah@company.co\", \"bad@\"]\n",
    "\n",
    "Exercise 3: Sales Report\n",
    "Given monthly_sales list, find:\n",
    "- Months above average\n",
    "- Best and worst month\n",
    "- Running total by month\n",
    "\n",
    "Exercise 4: Inventory Alert System\n",
    "Loop through products and flag any with quantity < 10 as \"low stock\"\n",
    "\n",
    "\n",
    "\n",
    "##### COMMON MISTAKES TO AVOID\n",
    "\n",
    "1. INFINITE LOOPS\n",
    "\n",
    "   ``` ❌ while True:  # without a break condition```\n",
    "\n",
    "   ```✓ while count < max_count:```\n",
    "\n",
    "\n",
    "2. OFF-BY-ONE ERRORS\n",
    "\n",
    "   ``` ❌ for i in range(1, len(items)):  # skips first item```\n",
    "\n",
    "   ``` ✓ for i in range(len(items)):```\n",
    "\n",
    "\n",
    "3. MODIFYING LIST WHILE LOOPING\n",
    "\n",
    "   ```\n",
    "   ❌ for item in items:\n",
    "\n",
    "         items.remove(item)  # Changes list size!\n",
    "   ```\n",
    "\n",
    "\n",
    "   ``` ✓ items = [item for item in items if condition]```\n",
    "\n",
    "\n",
    "4. FORGETTING BREAK/CONTINUE\n",
    "   - break: exits the loop entirely\n",
    "   - continue: skips to next iteration\n",
    "   \n",
    "5. WRONG COMPARISON OPERATORS\n",
    "\n",
    "   ```❌ if payment = \"cash\":  # Assignment, not comparison!```\n",
    "\n",
    "   ```✓ if payment == \"cash\":```"
   ]
  },
  {
   "cell_type": "code",
   "execution_count": null,
   "id": "b37d0387",
   "metadata": {},
   "outputs": [],
   "source": []
  }
 ],
 "metadata": {
  "kernelspec": {
   "display_name": "Python 3",
   "language": "python",
   "name": "python3"
  },
  "language_info": {
   "codemirror_mode": {
    "name": "ipython",
    "version": 3
   },
   "file_extension": ".py",
   "mimetype": "text/x-python",
   "name": "python",
   "nbconvert_exporter": "python",
   "pygments_lexer": "ipython3",
   "version": "3.11.10"
  }
 },
 "nbformat": 4,
 "nbformat_minor": 5
}
